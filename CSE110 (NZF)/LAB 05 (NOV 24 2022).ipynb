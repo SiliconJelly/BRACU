{
  "nbformat": 4,
  "nbformat_minor": 0,
  "metadata": {
    "colab": {
      "provenance": [],
      "include_colab_link": true
    },
    "kernelspec": {
      "name": "python3",
      "display_name": "Python 3"
    },
    "language_info": {
      "name": "python"
    }
  },
  "cells": [
    {
      "cell_type": "markdown",
      "metadata": {
        "id": "view-in-github",
        "colab_type": "text"
      },
      "source": [
        "<a href=\"https://colab.research.google.com/github/SiliconJelly/BRACU/blob/main/CSE110%20(NZF)/LAB%2005%20(NOV%2024%202022).ipynb\" target=\"_parent\"><img src=\"https://colab.research.google.com/assets/colab-badge.svg\" alt=\"Open In Colab\"/></a>"
      ]
    },
    {
      "cell_type": "code",
      "source": [
        "# (5th lab) from these tasks, at CSE110 — \n",
        "# we mainly test our knowledge about \"LISTS\"\n",
        "\n",
        "print(\"If the question remains, how to store a list value inside a loop ... good\")\n",
        "print(\"We shall be figuring that out on today's episode of CSE110 listphobia!\")\n",
        "\n",
        "  # DOC link for the task sets:\n",
        "  # https://docs.google.com/document/d/1P8ffb5C82zd0vT7251ykzCBjS1SUvVH5\n"
      ],
      "metadata": {
        "id": "IPCNkz4E7jOH"
      },
      "execution_count": null,
      "outputs": []
    },
    {
      "cell_type": "code",
      "execution_count": null,
      "metadata": {
        "id": "ppUnM57wQXgh"
      },
      "outputs": [],
      "source": [
        "# Task 01\n",
        "\n",
        "list = []\n",
        "\n",
        "for i in range(5):\n",
        "    num = int(input(\"Enter a number for list: \"))\n",
        "    list.append(num)\n",
        "    print(\"Numbers in the list: \", list)\n"
      ]
    },
    {
      "cell_type": "code",
      "source": [
        "# Task 02\n",
        "# approach 01\n",
        "\n",
        "user=input()\n",
        "l=[]\n",
        "temp=''\n",
        "for i in user:\n",
        "    if i==\",\":  # way around split()\n",
        "        l.append(temp)\n",
        "        temp=''\n",
        "    else:\n",
        "        temp+=i\n",
        "l.append(temp)\n",
        "l2=[]\n",
        "if len(l)>3:\n",
        "    l1=l[2:-2]\n",
        "    for i in range(len(l1)):\n",
        "        l2.append(int(l1[i]))\n",
        "    print(l2)\n",
        "else:\n",
        "    print(\"Not possible\")\n",
        "\n",
        "\n",
        "# approach 02\n",
        "# using split()\n",
        "\n",
        "# l = input().split(',')\n",
        "# l2 = []\n",
        "\n",
        "# if len(l)>3:\n",
        "#     l1=l[2:-2]\n",
        "#     for i in range(len(l1)):\n",
        "#         l2.append(int(l1[i]))\n",
        "#     print(l2)\n",
        "# else:\n",
        "#     print(\"Not possible\")\n"
      ],
      "metadata": {
        "id": "Qz83PWhHRbpj"
      },
      "execution_count": null,
      "outputs": []
    },
    {
      "cell_type": "code",
      "source": [
        "# Task 03\n",
        "\n",
        "l=[]\n",
        "for i in range(5):\n",
        "    num=int(input())\n",
        "    l.append(num)\n",
        "print(\"Input data: \",l)\n",
        "print(\"Printing values from the list in reverse order:\")\n",
        "for i in range(-1,-len(l)-1,-1):\n",
        "    print(l[i])\n"
      ],
      "metadata": {
        "id": "fnAUh-isRxWY"
      },
      "execution_count": null,
      "outputs": []
    },
    {
      "cell_type": "code",
      "source": [
        "# Task 04\n",
        "\n",
        "given_list=[1,2,3,4,5,6,7]\n",
        "g_l=[]\n",
        "for i in given_list:\n",
        "    l=i**2\n",
        "    g_l.append(l)\n",
        "print(g_l)\n"
      ],
      "metadata": {
        "id": "YXZ9pmPrSDlb"
      },
      "execution_count": null,
      "outputs": []
    },
    {
      "cell_type": "code",
      "source": [
        "# Task 05\n",
        "\n",
        "given_list=[\"hey\",\"there\",\"\",\"what's\",\"\",\"up\",\"\",\"?\"]\n",
        "mod_list=[]\n",
        "for i in given_list:\n",
        "    if i==\"\":\n",
        "        pass\n",
        "    else:\n",
        "        mod_list.append(i)\n",
        "print(\"Original list: \",given_list)\n",
        "print(\"Modified list: \",mod_list)\n"
      ],
      "metadata": {
        "id": "SjdSwPsqSf7k"
      },
      "execution_count": null,
      "outputs": []
    },
    {
      "cell_type": "code",
      "source": [
        "# Task 06\n",
        "# approach 01\n",
        "\n",
        "number_list=[]\n",
        "inp=input()\n",
        "temp=''\n",
        "for i in inp:\n",
        "    if i==\",\":\n",
        "        number_list.append(temp)\n",
        "        temp=''\n",
        "    else:\n",
        "        temp+=i\n",
        "number_list.append(temp)\n",
        "input_list=[]\n",
        "c=0\n",
        "for i in range(len(number_list)):\n",
        "    input_list.append(int(number_list[i]))\n",
        "max=input_list[0]\n",
        "for i in range(len(input_list)):\n",
        "    if input_list[i]>=max:\n",
        "        c=i\n",
        "        max=input_list[i]\n",
        "\n",
        "# print(f\"My list: {input_list}\")  # Literal String Interpolation (F-strings)\n",
        "# print(f\"Largest number in the list is {max} which was found at index {c}.\")\n",
        "print(\"My list: \", (input_list))\n",
        "print(\"Largest number in the list is\", (max), \"which was found at index\", (c),'.')\n",
        "\n",
        "# approach 02\n",
        "# using split()\n",
        "\n",
        "# inp=input().split(\",\")\n",
        "# l=[]\n",
        "# m=0\n",
        "# for i in inp:\n",
        "#     l.append(int(i))\n",
        "#     if i==l[0]:\n",
        "#         m=l[0]\n",
        "#         continue\n",
        "#     else:\n",
        "#         if m<int(i):\n",
        "#             m=int(i)\n",
        "#         else:\n",
        "#             pass\n",
        "# print(\"My list: \",l)\n",
        "# print(f\"Largest number in list is {m} which is found at index {l.index(m)}\")\n"
      ],
      "metadata": {
        "id": "7_oZdzvISsBb"
      },
      "execution_count": null,
      "outputs": []
    },
    {
      "cell_type": "code",
      "source": [
        "# Task 07\n",
        "\n",
        "list_1=[1,4,7,5]\n",
        "list_2=[6,1,3,9]\n",
        "l_3=[]\n",
        "for i in list_1:\n",
        "    if i==list_1[-1]:\n",
        "        for j in list_2:\n",
        "            l_3.append(j)\n",
        "    else:\n",
        "        l_3.append(i)\n",
        "\n",
        "print(l_3)\n"
      ],
      "metadata": {
        "id": "vuw2qNceS86D"
      },
      "execution_count": null,
      "outputs": []
    },
    {
      "cell_type": "code",
      "source": [
        "# Task 08\n",
        "\n",
        "list_1=[1,2,3,4,5,6,7,8,9]\n",
        "list_2=[10,11,12,13,-14,-15,-16]\n",
        "l_3=[]\n",
        "\n",
        "for i in list_1:\n",
        "    if i%2==0:\n",
        "        l_3.append(i)\n",
        "    else:\n",
        "        continue\n",
        "for j in list_2:\n",
        "    if j%2==0:\n",
        "        l_3.append(j)\n",
        "    else:\n",
        "        pass\n",
        "print(l_3)\n"
      ],
      "metadata": {
        "id": "5Yvyt2DrTNRU"
      },
      "execution_count": null,
      "outputs": []
    },
    {
      "cell_type": "code",
      "source": [
        "# Task 09\n",
        "\n",
        "s=input()\n",
        "c=0\n",
        "for i in s:\n",
        "    if i==\" \":\n",
        "        c+=1\n",
        "l=[]\n",
        "l1=[]\n",
        "l.append(int(s[0:s.find(\" \")]))\n",
        "s=s.replace(s[0:s.find(\" \")+1], \"\",1)\n",
        "\n",
        "for i in range(c-1):\n",
        "    s1=s[0:s.find(\" \")]\n",
        "    l.append(int(s1))\n",
        "    s=s.replace(s[0:s.find(\" \")+1], \"\",1)\n",
        "    if i==(c-2):\n",
        "        l.append(int(s[0::]))\n",
        "print(l)\n",
        "\n",
        "for i in l:\n",
        "    if int(i)%2!=0:\n",
        "        l1.append(int(i))\n",
        "    else:\n",
        "        pass\n",
        "print(l1)\n"
      ],
      "metadata": {
        "id": "kUbWBJd6TVMI"
      },
      "execution_count": null,
      "outputs": []
    },
    {
      "cell_type": "code",
      "source": [
        "# Task 10\n",
        "# approach 01\n",
        "\n",
        "s=input()\n",
        "inp=[]\n",
        "temp=''\n",
        "for i in s:\n",
        "    if i==\",\":\n",
        "        inp.append(temp)\n",
        "        temp=\"\"\n",
        "    else:\n",
        "        temp+=i\n",
        "inp.append(temp)\n",
        "n=[]\n",
        "l=[]\n",
        "for i in inp:\n",
        "    if int(i) in l:\n",
        "        continue\n",
        "    else:\n",
        "        l.append(int(i))\n",
        "for j in inp:\n",
        "    n.append(int(j))\n",
        "print('Input list:',n)\n",
        "print('Modified list:',l)\n",
        "\n",
        "\n",
        "# approach 02\n",
        "# using split()\n",
        "\n",
        "# inp=input().split(\",\")\n",
        "# n=[]\n",
        "# l=[]\n",
        "# for i in inp:\n",
        "#     if int(i) in l:\n",
        "#         continue\n",
        "#     else:\n",
        "#         l.append(int(i))\n",
        "# for j in inp:\n",
        "#     n.append(int(j))\n",
        "# print(n)\n",
        "# print(l)\n"
      ],
      "metadata": {
        "id": "TsZO9hHxTuyj"
      },
      "execution_count": null,
      "outputs": []
    },
    {
      "cell_type": "code",
      "source": [
        "# Task 11\n",
        "\n",
        "given_list1 = [1,4,3,1,6]\n",
        "given_list2 = [5,6,9,8,7]\n",
        "flag = False\n",
        "\n",
        "for i in given_list1:\n",
        "    if i in given_list2:\n",
        "        flag=True\n",
        "        break\n",
        "    else:\n",
        "        continue\n",
        "print(flag)\n"
      ],
      "metadata": {
        "id": "m8hvoSYMUFow"
      },
      "execution_count": null,
      "outputs": []
    },
    {
      "cell_type": "markdown",
      "source": [
        "Tracing"
      ],
      "metadata": {
        "id": "ncGO1-CvRYDN"
      }
    },
    {
      "cell_type": "code",
      "source": [
        "# Task 12\n",
        "\n",
        "myList = [0, 0, 0, 0, 0, 0, 0, 0, 0, 0]\n",
        "index1 = 0\n",
        "index2 = 0\n",
        "index1 = 1\n",
        "while(index1<10):\n",
        "  myList[index1] = index1+4\n",
        "  index2 = 1\n",
        "  while(index2<index1):\n",
        "      myList[index1] = myList[index1] + myList[index2]-index1\n",
        "      index2 = index2+1\n",
        "  print(myList[index1])\n",
        "  index1 = index1+1\n",
        "\n",
        "# https://pythontutor.com/render.html#code=myList%20%3D%20%5B0,%200,%200,%200,%200,%200,%200,%200,%200,%200%5D%0Aindex1%20%3D%200%0Aindex2%20%3D%200%0Aindex1%20%3D%201%0Awhile%28index1%3C10%29%3A%0A%20%20myList%5Bindex1%5D%20%3D%20index1%2B4%0A%20%20index2%20%3D%201%0A%20%20while%28index2%3Cindex1%29%3A%0A%20%20%20%20%20%20myList%5Bindex1%5D%20%3D%20myList%5Bindex1%5D%20%2B%20myList%5Bindex2%5D-index1%0A%20%20%20%20%20%20index2%20%3D%20index2%2B1%0A%20%20print%28myList%5Bindex1%5D%29%0A%20%20index1%20%3D%20index1%2B1&cumulative=false&curInstr=0&heapPrimitives=nevernest&mode=display&origin=opt-frontend.js&py=3&rawInputLstJSON=%5B%5D&textReferences=false"
      ],
      "metadata": {
        "id": "zm9sK01WRfWd"
      },
      "execution_count": null,
      "outputs": []
    },
    {
      "cell_type": "code",
      "source": [
        "# Task 13\n",
        "\n",
        "myList = [0, 0, 0, 0, 0, 0, 0, 0, 0, 0]\n",
        "index1 = 0\n",
        "index2 = 0\n",
        "index1 = 1\n",
        "while (index1 < 10):\n",
        "  myList[index1] = index1 + 4\n",
        "  index2 = 1\n",
        "  while (index2 < index1):\n",
        "    myList[index1] = myList[index1-1] - myList[index2-1] - index1\n",
        "    index2 = index2 + 1\n",
        "  print(myList[index1])\n",
        "  index1 = index1 + 1\n",
        "\n",
        "# https://pythontutor.com/render.html#code=myList%20%3D%20%5B0,%200,%200,%200,%200,%200,%200,%200,%200,%200%5D%0Aindex1%20%3D%200%0Aindex2%20%3D%200%0Aindex1%20%3D%201%0Awhile%20%28index1%20%3C%2010%29%3A%0A%20%20myList%5Bindex1%5D%20%3D%20index1%20%2B%204%0A%20%20index2%20%3D%201%0A%20%20while%20%28index2%20%3C%20index1%29%3A%0A%20%20%20%20myList%5Bindex1%5D%20%3D%20myList%5Bindex1-1%5D%20-%20myList%5Bindex2-1%5D%20-%20index1%0A%20%20%20%20index2%20%3D%20index2%20%2B%201%0A%20%20print%28myList%5Bindex1%5D%29%0A%20%20index1%20%3D%20index1%20%2B%201&cumulative=false&curInstr=0&heapPrimitives=nevernest&mode=display&origin=opt-frontend.js&py=3&rawInputLstJSON=%5B%5D&textReferences=false"
      ],
      "metadata": {
        "id": "Wu8TbVjXRsCF"
      },
      "execution_count": null,
      "outputs": []
    },
    {
      "cell_type": "code",
      "source": [
        "# Task 14\n",
        "\n",
        "myList = [0, 0, 0, 0, 0, 0, 0, 0, 0, 0]\n",
        "b = []\n",
        "index1 = 0\n",
        "index2 = 0\n",
        "index1 = 1\n",
        "b = myList\n",
        "while(index1<10):\n",
        "  myList[index1] = index1+2\n",
        "  index2 = 1\n",
        "  while(index2<index1):\n",
        "    myList[index1] = b[index1]+myList[index2]-index1\n",
        "    index2 = index2+1\n",
        "  print(myList[index1])\n",
        "  index1 = index1+1\n",
        "\n",
        "# https://pythontutor.com/render.html#code=%0AmyList%20%3D%20%5B0,%200,%200,%200,%200,%200,%200,%200,%200,%200%5D%0Ab%20%3D%20%5B%5D%0Aindex1%20%3D%200%0Aindex2%20%3D%200%0Aindex1%20%3D%201%0Ab%20%3D%20myList%0Awhile%28index1%3C10%29%3A%0A%20%20myList%5Bindex1%5D%20%3D%20index1%2B2%0A%20%20index2%20%3D%201%0A%20%20while%28index2%3Cindex1%29%3A%0A%20%20%20%20myList%5Bindex1%5D%20%3D%20b%5Bindex1%5D%2BmyList%5Bindex2%5D-index1%0A%20%20%20%20index2%20%3D%20index2%2B1%0A%20%20print%28myList%5Bindex1%5D%29%0A%20%20index1%20%3D%20index1%2B1&cumulative=false&curInstr=0&heapPrimitives=nevernest&mode=display&origin=opt-frontend.js&py=3&rawInputLstJSON=%5B%5D&textReferences=false"
      ],
      "metadata": {
        "id": "S_IzoGkSRsRt"
      },
      "execution_count": null,
      "outputs": []
    },
    {
      "cell_type": "code",
      "source": [
        "# Task 15\n",
        "\n",
        "myList = [0, 0, 0, 0, 0, 0, 0, 0, 0, 0]\n",
        "b = []\n",
        "index1 = 0\n",
        "index2 = 0\n",
        "index1 = 1\n",
        "b = myList\n",
        "while (index1 < 10):\n",
        "  myList[index1] = index1 + 1\n",
        "  index2 = 1\n",
        "  while (index2 < index1):\n",
        "    myList[index1] = b[index2-1] + myList[index2] - index1\n",
        "    index2 = index2 + 1\n",
        "  print(myList[index1])\n",
        "  index1 = index1 + 1\n",
        "\n",
        "# https://pythontutor.com/render.html#code=%0AmyList%20%3D%20%5B0,%200,%200,%200,%200,%200,%200,%200,%200,%200%5D%0Ab%20%3D%20%5B%5D%0Aindex1%20%3D%200%0Aindex2%20%3D%200%0Aindex1%20%3D%201%0Ab%20%3D%20myList%0Awhile%20%28index1%20%3C%2010%29%3A%0A%20%20myList%5Bindex1%5D%20%3D%20index1%20%2B%201%0A%20%20index2%20%3D%201%0A%20%20while%20%28index2%20%3C%20index1%29%3A%0A%20%20%20%20myList%5Bindex1%5D%20%3D%20b%5Bindex2-1%5D%20%2B%20myList%5Bindex2%5D%20-%20index1%0A%20%20%20%20index2%20%3D%20index2%20%2B%201%0A%20%20print%28myList%5Bindex1%5D%29%0A%20%20index1%20%3D%20index1%20%2B%201&cumulative=false&curInstr=0&heapPrimitives=nevernest&mode=display&origin=opt-frontend.js&py=3&rawInputLstJSON=%5B%5D&textReferences=false"
      ],
      "metadata": {
        "id": "IWNaX0B0Rs1N"
      },
      "execution_count": null,
      "outputs": []
    },
    {
      "cell_type": "code",
      "source": [
        "# If you're still alive after going through these tracings; you desrve to laugh a bit —"
      ],
      "metadata": {
        "id": "KIkKzhx5VsFY"
      },
      "execution_count": null,
      "outputs": []
    },
    {
      "cell_type": "markdown",
      "source": [
        "![ECYJMMNXoAMNe2U.jfif](data:image/jpeg;base64,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)"
      ],
      "metadata": {
        "id": "FTesozjC7kaq"
      }
    },
    {
      "cell_type": "markdown",
      "source": [
        "**UNGRADED**"
      ],
      "metadata": {
        "id": "zPSbQu1FU2l1"
      }
    },
    {
      "cell_type": "code",
      "source": [
        "#TASK 16\n",
        "\n",
        "how_many = int(input())               # assuming user inputs 7\n",
        "my_list = []\n",
        " \n",
        "for i in range(how_many):\n",
        "  num = str(int(input())).split()     # given_numbers = 7, 13, 2, 10, 6, -11, 0\n",
        "  my_list += num                      # alternative: https://realpython.com/python-append\n",
        "\n",
        "# initialize variables for the largest and second largest number\n",
        "largest = -float('inf')               # largest = -float('inf')\n",
        "second_largest = -float('inf')        # second_largest = -float('inf')\n",
        "index = -1                            # placeholder value\n",
        "\n",
        "# loop through the elements in the list\n",
        "for i, num in enumerate(my_list):\n",
        "    # if the current element is larger than the current largest number,\n",
        "    # update the second largest number and the largest number\n",
        "    if int(num) > largest:\n",
        "        second_largest = largest\n",
        "        largest = int(num)\n",
        "        index = i\n",
        "    # if the current element is larger than the current second largest number\n",
        "    # and smaller than the current largest number, update the second largest number\n",
        "    elif int(num) > second_largest:\n",
        "        second_largest = int(num)\n",
        "        index = i\n",
        "\n",
        "# second_largest now holds the second largest number in the list\n",
        "\n",
        "print(f\"Second largest number in the list is {second_largest} which was found at {index}\")\n",
        "\n",
        "\n",
        "'''\n",
        "\n",
        "Note that this approach assumes that the list has at least two elements.\n",
        "If the list input gets fewer than two elements, the code will produce an error.\n",
        "You might add a check for this case at the beginning of the code to handle it appropriately.\n",
        "\n",
        "'''\n"
      ],
      "metadata": {
        "id": "zj4dhUgCU64Z"
      },
      "execution_count": null,
      "outputs": []
    },
    {
      "cell_type": "code",
      "source": [
        "# Task 17\n",
        "# Smallest number / Largest number from list\n",
        "\n",
        "inp = input().split(\",\")\n",
        "l = []\n",
        "\n",
        "for i in inp:\n",
        "    if i==inp[0]:\n",
        "        maX=int(i)\n",
        "        miN=int(i)\n",
        "        l.append(int(i))\n",
        "        continue\n",
        "    if maX<int(i):\n",
        "        maX=int(i)\n",
        "        l.append(int(i))\n",
        "    elif miN>int(i):\n",
        "        miN=int(i)\n",
        "        l.append(int(i))\n",
        "    else:\n",
        "        l.append(int(i))\n",
        "\n",
        "print(f\"My list: {l}\")\n",
        "print(f\"Smallest number {miN} found at index {l.index(miN)}\")\n",
        "print(f\"Largest number {maX} found at index {l.index(maX)}\")\n"
      ],
      "metadata": {
        "id": "Iy6tPO9uVPRc"
      },
      "execution_count": null,
      "outputs": []
    },
    {
      "cell_type": "code",
      "source": [
        "# Task 18\n",
        "# Print new list with common elements\n",
        "\n",
        "inp1 = input().split(\", \")\n",
        "inp2 = input().split(\", \")\n",
        "l = []\n",
        "\n",
        "for i in inp1:\n",
        "\n",
        "    if i in inp2:\n",
        "      l.append(i)\n",
        "    \n",
        "    else:\n",
        "        continue\n",
        "\n",
        "print(l)\n"
      ],
      "metadata": {
        "id": "CKEZhAa0Vch0"
      },
      "execution_count": null,
      "outputs": []
    },
    {
      "cell_type": "code",
      "source": [
        "# Task 19\n",
        "# Print new/updated list with unique elements\n",
        "\n",
        "g_l1 = [1, 2, 2, 4, 5, 5, 7, 99, 200, 303, 70]\n",
        "g_l2 = [1, 1, 2, 3, 3, 3, 4, 5, 200, 500, -5]\n",
        "l = []\n",
        "g_l3 = g_l1 + g_l2\n",
        "\n",
        "for i in g_l3:\n",
        "    if i not in l:\n",
        "        l.append(i)\n",
        "    else:\n",
        "        continue\n",
        "\n",
        "print(l)\n"
      ],
      "metadata": {
        "id": "BKWE8sH_VlHp"
      },
      "execution_count": null,
      "outputs": []
    },
    {
      "cell_type": "code",
      "source": [
        "# Task 20\n",
        "# Just like every new semester, you get removed from friendlists; now you\n",
        "# too gotta remove whitespaces, (from a list) and make the data look organized\n",
        "\n",
        "l = []\n",
        "\n",
        "inp = input().strip(\"'\\\" \")\n",
        "print(\"Original data: \", inp)\n",
        "\n",
        "inp = inp.strip(\"[]\")\n",
        "print(\"After removing square brackets: \", inp)\n",
        "\n",
        "inp = inp.split(\",\")\n",
        "print(\"Numbers in string format with extra white spaces: \", inp)\n",
        "\n",
        "for i in inp:\n",
        "    if i == \" \":\n",
        "        continue\n",
        "    else:\n",
        "        l.append(int(i))\n",
        "        \n",
        "print(f\"Final data (numbers in list format): {l}\")\n"
      ],
      "metadata": {
        "id": "PaSccZSYVusu"
      },
      "execution_count": null,
      "outputs": []
    },
    {
      "cell_type": "code",
      "source": [
        "# Task 21\n",
        "\n",
        "l = []\n",
        "l1 = []\n",
        "inp=input().replace(\" \",\"\")\n",
        "inp=inp.split(\",\")\n",
        "for i in inp:\n",
        "        l.append(int(i))\n",
        "for i in l:\n",
        "    if i in l1:\n",
        "        continue\n",
        "    else:\n",
        "        l1.append(i)\n",
        "print(\"Given numbers in list: \", l)\n",
        "print(\"List without any dupliacte values: \", l1)\n"
      ],
      "metadata": {
        "id": "W3ihsF0lV5q9"
      },
      "execution_count": null,
      "outputs": []
    }
  ]
}